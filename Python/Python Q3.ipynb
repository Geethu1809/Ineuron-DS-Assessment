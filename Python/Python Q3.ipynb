{
 "cells": [
  {
   "cell_type": "markdown",
   "id": "82648bc7-4561-4dd2-82be-0e5991d83d28",
   "metadata": {},
   "source": [
    "Python"
   ]
  },
  {
   "cell_type": "code",
   "execution_count": null,
   "id": "5f00f1f2-f6a5-4928-8d0e-d5aa01546d7b",
   "metadata": {},
   "outputs": [],
   "source": []
  },
  {
   "cell_type": "markdown",
   "id": "43f4d559-8bb4-450c-ae77-6286f19e8f21",
   "metadata": {},
   "source": [
    "Question: 3\n",
    "\n",
    "Mr. Karthiken works in a door mat manufacturing company. One day, he designed a new door mat with the following specifications:\n",
    "\n",
    "             a) Mat size must be N X M. (N is an odd natural number, and M is 3 times N.)\n",
    "              b) The design should have ‘WELCOME’ written in the center.\n",
    "              c) The design pattern should only use |, . and – characters.\n",
    "\n",
    "    Sample Design is given above image, Write a python code for this."
   ]
  },
  {
   "cell_type": "code",
   "execution_count": 2,
   "id": "31b5a89d-ef99-4dba-bd68-b69f20a85789",
   "metadata": {},
   "outputs": [
    {
     "name": "stdout",
     "output_type": "stream",
     "text": [
      ".-.-.-.-.-.-.--\n",
      "...........\n",
      "WELCOME...........\n",
      "...........\n",
      "...........\n",
      "...........\n",
      "...........\n",
      ".....-----------------\n",
      "\n",
      ".-.-.-.-.-.-.-.-.-.-.--\n",
      "...........\n",
      "...........\n",
      "...........\n",
      "WELCOME...........\n",
      "...........\n",
      "...........\n",
      "...........\n",
      "...........\n",
      "...........\n",
      "...........\n",
      "...........-----------------\n",
      "\n"
     ]
    }
   ],
   "source": [
    "def print_welcome_mat(n, m):\n",
    "    # Calculate the starting position of the 'WELCOME' string\n",
    "    start_row = (n - 4) // 2\n",
    "    start_col = (m - 11) // 2\n",
    "\n",
    "    # Generate the top border of the mat\n",
    "    top_border = '.-' * (m // 3) + '-\\n'\n",
    "\n",
    "    # Generate the middle part of the mat with 'WELCOME' in the center\n",
    "    middle_part = ''\n",
    "    for i in range(n):\n",
    "        if i == start_row:\n",
    "            middle_part += 'WELCOME'\n",
    "        else:\n",
    "            middle_part += '.' * 11 + '\\n'\n",
    "\n",
    "    # Generate the bottom border of the mat\n",
    "    bottom_border = ''\n",
    "    for i in range(start_col):\n",
    "        bottom_border += '.'\n",
    "    bottom_border += '-' * 11\n",
    "    for i in range(n - 2 * start_row - 2):\n",
    "        bottom_border += '--'\n",
    "    bottom_border += '\\n'\n",
    "\n",
    "    # Print the final mat\n",
    "    print(top_border + middle_part + bottom_border)\n",
    "\n",
    "# Test the function with the given sizes\n",
    "print_welcome_mat(7, 21)\n",
    "print_welcome_mat(11, 33)"
   ]
  },
  {
   "cell_type": "code",
   "execution_count": null,
   "id": "bd5c3e63-9216-4a58-b0e7-efa1f0b6ce7c",
   "metadata": {},
   "outputs": [],
   "source": []
  }
 ],
 "metadata": {
  "kernelspec": {
   "display_name": "Python 3 (ipykernel)",
   "language": "python",
   "name": "python3"
  },
  "language_info": {
   "codemirror_mode": {
    "name": "ipython",
    "version": 3
   },
   "file_extension": ".py",
   "mimetype": "text/x-python",
   "name": "python",
   "nbconvert_exporter": "python",
   "pygments_lexer": "ipython3",
   "version": "3.11.5"
  }
 },
 "nbformat": 4,
 "nbformat_minor": 5
}
