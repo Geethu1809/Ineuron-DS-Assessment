{
 "cells": [
  {
   "cell_type": "markdown",
   "id": "f1c2e26b-7ff0-4ebb-bfeb-3f3088e6cf93",
   "metadata": {},
   "source": [
    "Python "
   ]
  },
  {
   "cell_type": "code",
   "execution_count": null,
   "id": "dd44cee9-4681-4d0a-a263-7fffb6bedefd",
   "metadata": {},
   "outputs": [],
   "source": []
  },
  {
   "cell_type": "markdown",
   "id": "a25cf4ca-b4c1-4d5d-a16e-fea88b781d4e",
   "metadata": {},
   "source": [
    "Question: 2\n",
    "\n",
    "\n",
    "Given an array of length ‘N’, where each element denotes the position of a stall. Now you have ‘N’ stalls and an integer ‘K’ which denotes the number of horses that are mad. To prevent the horses from hurting each other, you need to assign the horses to the stalls, such that the minimum distance between any two of them is as large as possible. Return the largest minimum distance.\n",
    "\n",
    "array: 1,2,4,8,9  &  k=3\n",
    "\n",
    "O/P: 3\n",
    "\n",
    "Explanation: 1st horse at stall 1, 2nd horse at stall 4 and 3rd horse at stall 8\n"
   ]
  },
  {
   "cell_type": "code",
   "execution_count": 3,
   "id": "6beec435-1bc3-4a9f-af32-697498da34b0",
   "metadata": {},
   "outputs": [
    {
     "name": "stdout",
     "output_type": "stream",
     "text": [
      "Largest minimum distance: 3\n"
     ]
    }
   ],
   "source": [
    "def min_distance_between_horses(stalls, k):\n",
    "    stalls.sort()  # Sort the stalls in ascending order\n",
    "\n",
    "    # Define the search space\n",
    "    left, right = 0, stalls[-1] - stalls[0]\n",
    "\n",
    "    # Binary search to find the largest minimum distance\n",
    "    while left < right:\n",
    "        mid = (left + right + 1) // 2\n",
    "        horses_placed = 1  # First horse is placed at the first stall\n",
    "        last_placed_stall = stalls[0]\n",
    "\n",
    "        # Iterate through the stalls and place the horses\n",
    "        for stall in stalls:\n",
    "            if stall - last_placed_stall >= mid:\n",
    "                horses_placed += 1\n",
    "                last_placed_stall = stall\n",
    "\n",
    "        if horses_placed >= k:  # We can place at least k horses with minimum distance mid\n",
    "            left = mid\n",
    "        else:\n",
    "            right = mid - 1\n",
    "\n",
    "    return left\n",
    "\n",
    "# Example usage\n",
    "stalls = [1, 2, 4, 8, 9]\n",
    "k = 3\n",
    "result = min_distance_between_horses(stalls, k)\n",
    "print(\"Largest minimum distance:\", result)\n"
   ]
  },
  {
   "cell_type": "code",
   "execution_count": null,
   "id": "909f99ae-7267-4590-82e1-59b52057a874",
   "metadata": {},
   "outputs": [],
   "source": []
  }
 ],
 "metadata": {
  "kernelspec": {
   "display_name": "Python 3 (ipykernel)",
   "language": "python",
   "name": "python3"
  },
  "language_info": {
   "codemirror_mode": {
    "name": "ipython",
    "version": 3
   },
   "file_extension": ".py",
   "mimetype": "text/x-python",
   "name": "python",
   "nbconvert_exporter": "python",
   "pygments_lexer": "ipython3",
   "version": "3.11.5"
  }
 },
 "nbformat": 4,
 "nbformat_minor": 5
}
