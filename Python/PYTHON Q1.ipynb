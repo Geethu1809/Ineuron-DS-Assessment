{
 "cells": [
  {
   "cell_type": "markdown",
   "id": "3bde8315-1ba5-40f6-a1ce-6651cdc55c77",
   "metadata": {},
   "source": [
    "PYTHON "
   ]
  },
  {
   "cell_type": "markdown",
   "id": "10c90755-fa6b-46f7-89e4-393ef8a29f94",
   "metadata": {},
   "source": [
    "\n",
    "Question: 1\n",
    "\n",
    "\n",
    "You have an input dictionary given,\n",
    "\n",
    "input_dict = {\"abc\":{\"def\":{\"ghi\":{\"jkl\":{\"mno\":{\"pqr\":{\"stu\":{\"vwx\":{\"yz\":\"you are finally here !!!\"}}}}}}}}}\n",
    "\n",
    "Task:  You have to write a Python function that will take this input and print it like that,\n",
    "\n",
    "output = {\"abc\":[\"def\",\"ghi\",\"jkl\",\"mno\",\"pqr\",\"stu\",\"vwx\",\"yz\"],\n",
    " \"def\":[\"ghi\",\"jkl\",\"mno\",\"pqr\",\"stu\",\"vwx\",\"yz\"],\n",
    " \"ghi\":[\"jkl\",\"mno\",\"pqr\",\"stu\",\"vwx\",\"yz\"],\n",
    " \"jkl\":[\"mno\",\"pqr\",\"stu\",\"vwx\",\"yz\"],\n",
    " \"mno\":[\"pqr\",\"stu\",\"vwx\",\"yz\"],\n",
    " \"pqr\":[\"stu\",\"vwx\",\"yz\"],\n",
    " \"stu\":[\"vwx\",\"yz\"],\n",
    " \"vwx\":[\"yz\"],\n",
    " \"yz\":[\"you are finally here !!!\"]}"
   ]
  },
  {
   "cell_type": "code",
   "execution_count": 9,
   "id": "3b267dd0-3adf-45f8-961d-ab417b577ef4",
   "metadata": {},
   "outputs": [
    {
     "name": "stdout",
     "output_type": "stream",
     "text": [
      "{'abc': ['def', 'ghi', 'jkl', 'mno', 'pqr', 'stu', 'vwx', 'yz', 'abc.def.ghi.jkl.mno.pqr.stu.vwx.yz'], 'def': ['ghi', 'jkl', 'mno', 'pqr', 'stu', 'vwx', 'yz', 'abc.def.ghi.jkl.mno.pqr.stu.vwx.yz'], 'ghi': ['jkl', 'mno', 'pqr', 'stu', 'vwx', 'yz', 'abc.def.ghi.jkl.mno.pqr.stu.vwx.yz'], 'jkl': ['mno', 'pqr', 'stu', 'vwx', 'yz', 'abc.def.ghi.jkl.mno.pqr.stu.vwx.yz'], 'mno': ['pqr', 'stu', 'vwx', 'yz', 'abc.def.ghi.jkl.mno.pqr.stu.vwx.yz'], 'pqr': ['stu', 'vwx', 'yz', 'abc.def.ghi.jkl.mno.pqr.stu.vwx.yz'], 'stu': ['vwx', 'yz', 'abc.def.ghi.jkl.mno.pqr.stu.vwx.yz'], 'vwx': ['yz', 'abc.def.ghi.jkl.mno.pqr.stu.vwx.yz'], 'yz': 'you are finally here !!!', 'abc.def.ghi.jkl.mno.pqr.stu.vwx.yz': 'you are finally here !!!'}\n"
     ]
    }
   ],
   "source": [
    "def flatten_dict(input_dict, path=None):\n",
    "    if path is None:\n",
    "        path = []\n",
    "    output = {}\n",
    "    for key, value in input_dict.items():\n",
    "        new_path = path + [key]\n",
    "        if isinstance(value, dict):\n",
    "            nested_output = flatten_dict(value, new_path)\n",
    "            output[key] = list(nested_output.keys())\n",
    "            output.update(nested_output)\n",
    "        else:\n",
    "            output[key] = value\n",
    "            current_path = \".\".join(new_path)\n",
    "            output[current_path] = value\n",
    "    return output\n",
    "\n",
    "input_dict = {\"abc\":{\"def\":{\"ghi\":{\"jkl\":{\"mno\":{\"pqr\":{\"stu\":{\"vwx\":{\"yz\":\"you are finally here !!!\"}}}}}}}}}\n",
    "output = flatten_dict(input_dict)\n",
    "print(output)\n"
   ]
  },
  {
   "cell_type": "code",
   "execution_count": null,
   "id": "55ed95b4-4d1c-437a-94cc-1ac6eedc2fbc",
   "metadata": {},
   "outputs": [],
   "source": []
  }
 ],
 "metadata": {
  "kernelspec": {
   "display_name": "Python 3 (ipykernel)",
   "language": "python",
   "name": "python3"
  },
  "language_info": {
   "codemirror_mode": {
    "name": "ipython",
    "version": 3
   },
   "file_extension": ".py",
   "mimetype": "text/x-python",
   "name": "python",
   "nbconvert_exporter": "python",
   "pygments_lexer": "ipython3",
   "version": "3.11.5"
  }
 },
 "nbformat": 4,
 "nbformat_minor": 5
}
