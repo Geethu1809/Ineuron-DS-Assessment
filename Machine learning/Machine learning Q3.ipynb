{
 "cells": [
  {
   "cell_type": "markdown",
   "id": "86302ac8-0554-445b-b108-1800cb2742cb",
   "metadata": {},
   "source": [
    "Machine learning"
   ]
  },
  {
   "cell_type": "markdown",
   "id": "3cd72af3-3b88-4f51-afe7-68a195b45edd",
   "metadata": {},
   "source": [
    "Question: 3\n",
    "\n",
    "Train and fine tune a decision tree using the wine dataset by following the following steps:-\n",
    "\n",
    "  1. Use load_wine() to generate wine dataset\n",
    "  2. Split the dataset into train and test  dataset\n",
    "  3. Use random search CV to hyperparameter tune the Decision Tree\n",
    "  4. Try to achieve an accuracy of at least 85%\n",
    "\n",
    "\n",
    "Grow a random forest using the following steps:-\n",
    "\n",
    "  1. Continuing the previous question, create 10 subsets of the training dataset. You can use the ShuffleSplit                class for it.\n",
    "  2. Train 1 decision tree on each subset, using the best hyperparameter values found in the previous question.\n",
    "  3. Evaluate all the trees on the test dataset. Are they performing better than the tree created in the previous question?"
   ]
  },
  {
   "cell_type": "code",
   "execution_count": 1,
   "id": "90fd2784-8cbe-4354-bc6e-a9615f2286f4",
   "metadata": {},
   "outputs": [
    {
     "name": "stdout",
     "output_type": "stream",
     "text": [
      "Accuracy: 0.9444444444444444\n",
      "Best Parameters: {'criterion': 'entropy', 'max_depth': 3, 'max_features': 4, 'min_samples_leaf': 1}\n"
     ]
    }
   ],
   "source": [
    "from sklearn.datasets import load_wine\n",
    "from sklearn.model_selection import train_test_split, RandomizedSearchCV\n",
    "from sklearn.tree import DecisionTreeClassifier\n",
    "from scipy.stats import randint\n",
    "from sklearn.metrics import accuracy_score\n",
    "\n",
    "# Step 1: Load wine dataset\n",
    "wine = load_wine()\n",
    "X = wine.data\n",
    "y = wine.target\n",
    "\n",
    "# Step 2: Split dataset into train and test sets\n",
    "X_train, X_test, y_train, y_test = train_test_split(X, y, test_size=0.2, random_state=42)\n",
    "\n",
    "# Step 3: Hyperparameter tuning using RandomizedSearchCV\n",
    "param_dist = {\"max_depth\": [3, None],\n",
    "              \"max_features\": randint(1, 9),\n",
    "              \"min_samples_leaf\": randint(1, 9),\n",
    "              \"criterion\": [\"gini\", \"entropy\"]}\n",
    "\n",
    "tree = DecisionTreeClassifier()\n",
    "tree_cv = RandomizedSearchCV(tree, param_distributions=param_dist, n_iter=100, cv=5, random_state=42)\n",
    "tree_cv.fit(X_train, y_train)\n",
    "\n",
    "# Get the best parameters\n",
    "best_params = tree_cv.best_params_\n",
    "\n",
    "# Step 4: Evaluate accuracy\n",
    "y_pred = tree_cv.predict(X_test)\n",
    "accuracy = accuracy_score(y_test, y_pred)\n",
    "print(\"Accuracy:\", accuracy)\n",
    "print(\"Best Parameters:\", best_params)\n"
   ]
  },
  {
   "cell_type": "code",
   "execution_count": 2,
   "id": "67404e85-c1d9-434d-9d74-05f999910a85",
   "metadata": {},
   "outputs": [
    {
     "name": "stdout",
     "output_type": "stream",
     "text": [
      "Average Accuracy of Random Forest: 0.9916666666666666\n",
      "Decision Tree Accuracy: 0.9444444444444444\n"
     ]
    }
   ],
   "source": [
    "from sklearn.ensemble import RandomForestClassifier\n",
    "from sklearn.model_selection import ShuffleSplit\n",
    "\n",
    "# Step 1: Create subsets of training dataset\n",
    "n_subsets = 10\n",
    "shuffle_split = ShuffleSplit(n_splits=n_subsets, test_size=0.2, random_state=42)\n",
    "\n",
    "# Step 2: Train 1 decision tree on each subset\n",
    "forest = RandomForestClassifier(**best_params)  # Using best hyperparameters from previous task\n",
    "forest_accuracy = []\n",
    "\n",
    "for train_index, _ in shuffle_split.split(X_train):\n",
    "    X_subset_train, y_subset_train = X_train[train_index], y_train[train_index]\n",
    "    forest.fit(X_subset_train, y_subset_train)\n",
    "    y_pred_subset = forest.predict(X_test)\n",
    "    accuracy_subset = accuracy_score(y_test, y_pred_subset)\n",
    "    forest_accuracy.append(accuracy_subset)\n",
    "\n",
    "# Step 3: Evaluate all trees on the test dataset\n",
    "average_accuracy = sum(forest_accuracy) / len(forest_accuracy)\n",
    "print(\"Average Accuracy of Random Forest:\", average_accuracy)\n",
    "\n",
    "# Compare with the Decision Tree from the previous task\n",
    "print(\"Decision Tree Accuracy:\", accuracy)\n"
   ]
  },
  {
   "cell_type": "code",
   "execution_count": null,
   "id": "6ac95a3b-9e2f-46b0-829c-f338bbb80140",
   "metadata": {},
   "outputs": [],
   "source": []
  },
  {
   "cell_type": "code",
   "execution_count": null,
   "id": "c5e49474-cd1a-47fe-ae3a-00a153eb0cd9",
   "metadata": {},
   "outputs": [],
   "source": []
  }
 ],
 "metadata": {
  "kernelspec": {
   "display_name": "Python 3 (ipykernel)",
   "language": "python",
   "name": "python3"
  },
  "language_info": {
   "codemirror_mode": {
    "name": "ipython",
    "version": 3
   },
   "file_extension": ".py",
   "mimetype": "text/x-python",
   "name": "python",
   "nbconvert_exporter": "python",
   "pygments_lexer": "ipython3",
   "version": "3.11.5"
  }
 },
 "nbformat": 4,
 "nbformat_minor": 5
}
