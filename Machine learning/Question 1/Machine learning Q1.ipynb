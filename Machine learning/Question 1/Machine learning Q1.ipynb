{
 "cells": [
  {
   "cell_type": "markdown",
   "id": "b737798c-4158-4fe2-b012-16b5b47d31b8",
   "metadata": {},
   "source": [
    "Machine learning "
   ]
  },
  {
   "cell_type": "markdown",
   "id": "5c3792b2-a1be-4e17-86d1-eaab26b37ded",
   "metadata": {},
   "source": [
    "Question: 1\n",
    "\n",
    "Imagine you have a dataset where you have different Instagram features like u sername , Caption , Hashtag , Followers , Time_Since_posted , and likes , now your task is to predict the number of likes and Time Since posted and the rest of the features are your input features. Now you have to build a model which can predict the number of likes and Time Since posted. \n",
    "Dataset This is the Dataset You can use this dataset for this question. \n",
    "\n",
    "\n",
    "\n"
   ]
  },
  {
   "cell_type": "code",
   "execution_count": 11,
   "id": "5fedace7-d2d0-49cf-909f-63c5729498c6",
   "metadata": {},
   "outputs": [],
   "source": [
    "# Import necessary libraries\n",
    "import pandas as pd\n",
    "from sklearn.model_selection import train_test_split\n",
    "from sklearn.preprocessing import StandardScaler\n",
    "from sklearn.ensemble import RandomForestRegressor\n",
    "from sklearn.metrics import mean_absolute_error\n",
    "import re\n",
    "\n"
   ]
  },
  {
   "cell_type": "code",
   "execution_count": 12,
   "id": "d7f7404b-0174-40de-ba8e-9e348938b2a2",
   "metadata": {},
   "outputs": [
    {
     "name": "stdout",
     "output_type": "stream",
     "text": [
      "Index(['Unnamed: 0', 'S.No', 'USERNAME', 'Caption', 'Followers', 'Hashtags',\n",
      "       'Time since posted', 'Likes'],\n",
      "      dtype='object')\n"
     ]
    }
   ],
   "source": [
    "# Load the dataset\n",
    "data = pd.read_csv('C:/Users/geeth/Downloads/instagram_reach.csv')\n",
    "print(data.columns)\n",
    "\n"
   ]
  },
  {
   "cell_type": "code",
   "execution_count": 13,
   "id": "73af6b81-080f-4afa-81c4-544e6e1d4046",
   "metadata": {},
   "outputs": [],
   "source": [
    "# Data preprocessing\n",
    "# Handle missing values\n",
    "data.dropna(inplace=True)"
   ]
  },
  {
   "cell_type": "code",
   "execution_count": 14,
   "id": "108aeed9-d1d0-43a1-8f5c-7559f527236d",
   "metadata": {},
   "outputs": [],
   "source": [
    "# Convert 'Time since posted' to numerical values\n",
    "def extract_hours(time_str):\n",
    "    hours = re.findall(r'\\d+', time_str)\n",
    "    if hours:\n",
    "        return int(hours[0])\n",
    "    else:\n",
    "        return 0\n",
    "\n",
    "data['Time since posted'] = data['Time since posted'].apply(extract_hours)\n"
   ]
  },
  {
   "cell_type": "code",
   "execution_count": 15,
   "id": "bdb0c6c8-91b2-4176-b926-a47739e5f33e",
   "metadata": {},
   "outputs": [],
   "source": [
    "# Feature scaling\n",
    "scaler = StandardScaler()\n",
    "data[['Followers', 'Time since posted']] = scaler.fit_transform(data[['Followers', 'Time since posted']])\n"
   ]
  },
  {
   "cell_type": "code",
   "execution_count": 16,
   "id": "6fb1a94a-5736-4808-9bc1-52431d608792",
   "metadata": {},
   "outputs": [],
   "source": [
    "# Feature selection/engineering (if needed)\n",
    "\n",
    "# Splitting the data into train and test sets\n",
    "X = data.drop(['Likes', 'Time since posted'], axis=1)\n",
    "y_likes = data['Likes']\n",
    "y_time_since_posted = data['Time since posted']\n",
    "X_train, X_test, y_likes_train, y_likes_test, y_time_train, y_time_test = train_test_split(X, y_likes, y_time_since_posted, test_size=0.2, random_state=42)\n"
   ]
  },
  {
   "cell_type": "code",
   "execution_count": 18,
   "id": "cfe0f51e-ddd0-4145-a8cf-82e362de7e25",
   "metadata": {},
   "outputs": [
    {
     "name": "stdout",
     "output_type": "stream",
     "text": [
      "Unnamed: 0             int64\n",
      "S.No                   int64\n",
      "USERNAME              object\n",
      "Caption               object\n",
      "Followers            float64\n",
      "Hashtags              object\n",
      "Time since posted    float64\n",
      "Likes                  int64\n",
      "dtype: object\n",
      "   Unnamed: 0  S.No              USERNAME  \\\n",
      "0           0     1         mikequindazzi   \n",
      "1           1     2       drgorillapaints   \n",
      "2           2     3    aitrading_official   \n",
      "3           3     4  opensourcedworkplace   \n",
      "4           4     5           crea.vision   \n",
      "\n",
      "                                             Caption  Followers  \\\n",
      "0  Who are #DataScientist and what do they do? >>...   0.645474   \n",
      "1  We all know where it’s going. We just have to ...  -0.061494   \n",
      "2  Alexander Barinov: 4 years as CFO in multinati...  -0.675181   \n",
      "3                                               sfad  -0.591720   \n",
      "4  Ever missed a call while your phone was chargi...  -0.627068   \n",
      "\n",
      "                                            Hashtags  Time since posted  Likes  \n",
      "0  #MachineLearning #AI #DataAnalytics #DataScien...           2.155620    139  \n",
      "1   #deck .#mac #macintosh#sayhello #apple #steve...          -0.438483     23  \n",
      "2  #whoiswho #aitrading #ai #aitradingteam#instat...          -0.438483     25  \n",
      "3  #iot #cre#workplace #CDO #bigdata #technology#...          -0.150250     49  \n",
      "4  #instamachinelearning #instabigdata#instamarke...          -0.150250     30  \n",
      "Column 'USERNAME' contains non-numeric values.\n",
      "Column 'Caption' contains non-numeric values.\n",
      "Column 'Hashtags' contains non-numeric values.\n"
     ]
    }
   ],
   "source": [
    "print(data.dtypes)\n",
    "\n",
    "print(data.head())\n",
    "\n",
    "\n",
    "for col in data.columns:\n",
    "    if data[col].dtype == 'object':\n",
    "        non_numeric_values = data[col].str.contains('[^0-9.]').sum()\n",
    "        if non_numeric_values > 0:\n",
    "            print(f\"Column '{col}' contains non-numeric values.\")\n"
   ]
  },
  {
   "cell_type": "code",
   "execution_count": 20,
   "id": "b56261b9-c483-4b67-adb6-1067eb738703",
   "metadata": {},
   "outputs": [],
   "source": [
    "# Drop non-numeric columns from input features\n",
    "X = data.drop(['Likes', 'Time since posted', 'USERNAME', 'Caption', 'Hashtags'], axis=1)\n"
   ]
  },
  {
   "cell_type": "code",
   "execution_count": 21,
   "id": "1b23a16b-abd6-4b18-b461-745fa36d78df",
   "metadata": {},
   "outputs": [],
   "source": [
    "# Splitting the data into train and test sets\n",
    "y_likes = data['Likes']\n",
    "y_time_since_posted = data['Time since posted']\n",
    "X_train, X_test, y_likes_train, y_likes_test, y_time_train, y_time_test = train_test_split(X, y_likes, y_time_since_posted, test_size=0.2, random_state=42)\n"
   ]
  },
  {
   "cell_type": "code",
   "execution_count": 22,
   "id": "be7a2972-5d81-46cc-af2a-e867c8d83bf2",
   "metadata": {},
   "outputs": [
    {
     "data": {
      "text/html": [
       "<style>#sk-container-id-1 {color: black;}#sk-container-id-1 pre{padding: 0;}#sk-container-id-1 div.sk-toggleable {background-color: white;}#sk-container-id-1 label.sk-toggleable__label {cursor: pointer;display: block;width: 100%;margin-bottom: 0;padding: 0.3em;box-sizing: border-box;text-align: center;}#sk-container-id-1 label.sk-toggleable__label-arrow:before {content: \"▸\";float: left;margin-right: 0.25em;color: #696969;}#sk-container-id-1 label.sk-toggleable__label-arrow:hover:before {color: black;}#sk-container-id-1 div.sk-estimator:hover label.sk-toggleable__label-arrow:before {color: black;}#sk-container-id-1 div.sk-toggleable__content {max-height: 0;max-width: 0;overflow: hidden;text-align: left;background-color: #f0f8ff;}#sk-container-id-1 div.sk-toggleable__content pre {margin: 0.2em;color: black;border-radius: 0.25em;background-color: #f0f8ff;}#sk-container-id-1 input.sk-toggleable__control:checked~div.sk-toggleable__content {max-height: 200px;max-width: 100%;overflow: auto;}#sk-container-id-1 input.sk-toggleable__control:checked~label.sk-toggleable__label-arrow:before {content: \"▾\";}#sk-container-id-1 div.sk-estimator input.sk-toggleable__control:checked~label.sk-toggleable__label {background-color: #d4ebff;}#sk-container-id-1 div.sk-label input.sk-toggleable__control:checked~label.sk-toggleable__label {background-color: #d4ebff;}#sk-container-id-1 input.sk-hidden--visually {border: 0;clip: rect(1px 1px 1px 1px);clip: rect(1px, 1px, 1px, 1px);height: 1px;margin: -1px;overflow: hidden;padding: 0;position: absolute;width: 1px;}#sk-container-id-1 div.sk-estimator {font-family: monospace;background-color: #f0f8ff;border: 1px dotted black;border-radius: 0.25em;box-sizing: border-box;margin-bottom: 0.5em;}#sk-container-id-1 div.sk-estimator:hover {background-color: #d4ebff;}#sk-container-id-1 div.sk-parallel-item::after {content: \"\";width: 100%;border-bottom: 1px solid gray;flex-grow: 1;}#sk-container-id-1 div.sk-label:hover label.sk-toggleable__label {background-color: #d4ebff;}#sk-container-id-1 div.sk-serial::before {content: \"\";position: absolute;border-left: 1px solid gray;box-sizing: border-box;top: 0;bottom: 0;left: 50%;z-index: 0;}#sk-container-id-1 div.sk-serial {display: flex;flex-direction: column;align-items: center;background-color: white;padding-right: 0.2em;padding-left: 0.2em;position: relative;}#sk-container-id-1 div.sk-item {position: relative;z-index: 1;}#sk-container-id-1 div.sk-parallel {display: flex;align-items: stretch;justify-content: center;background-color: white;position: relative;}#sk-container-id-1 div.sk-item::before, #sk-container-id-1 div.sk-parallel-item::before {content: \"\";position: absolute;border-left: 1px solid gray;box-sizing: border-box;top: 0;bottom: 0;left: 50%;z-index: -1;}#sk-container-id-1 div.sk-parallel-item {display: flex;flex-direction: column;z-index: 1;position: relative;background-color: white;}#sk-container-id-1 div.sk-parallel-item:first-child::after {align-self: flex-end;width: 50%;}#sk-container-id-1 div.sk-parallel-item:last-child::after {align-self: flex-start;width: 50%;}#sk-container-id-1 div.sk-parallel-item:only-child::after {width: 0;}#sk-container-id-1 div.sk-dashed-wrapped {border: 1px dashed gray;margin: 0 0.4em 0.5em 0.4em;box-sizing: border-box;padding-bottom: 0.4em;background-color: white;}#sk-container-id-1 div.sk-label label {font-family: monospace;font-weight: bold;display: inline-block;line-height: 1.2em;}#sk-container-id-1 div.sk-label-container {text-align: center;}#sk-container-id-1 div.sk-container {/* jupyter's `normalize.less` sets `[hidden] { display: none; }` but bootstrap.min.css set `[hidden] { display: none !important; }` so we also need the `!important` here to be able to override the default hidden behavior on the sphinx rendered scikit-learn.org. See: https://github.com/scikit-learn/scikit-learn/issues/21755 */display: inline-block !important;position: relative;}#sk-container-id-1 div.sk-text-repr-fallback {display: none;}</style><div id=\"sk-container-id-1\" class=\"sk-top-container\"><div class=\"sk-text-repr-fallback\"><pre>RandomForestRegressor()</pre><b>In a Jupyter environment, please rerun this cell to show the HTML representation or trust the notebook. <br />On GitHub, the HTML representation is unable to render, please try loading this page with nbviewer.org.</b></div><div class=\"sk-container\" hidden><div class=\"sk-item\"><div class=\"sk-estimator sk-toggleable\"><input class=\"sk-toggleable__control sk-hidden--visually\" id=\"sk-estimator-id-1\" type=\"checkbox\" checked><label for=\"sk-estimator-id-1\" class=\"sk-toggleable__label sk-toggleable__label-arrow\">RandomForestRegressor</label><div class=\"sk-toggleable__content\"><pre>RandomForestRegressor()</pre></div></div></div></div></div>"
      ],
      "text/plain": [
       "RandomForestRegressor()"
      ]
     },
     "execution_count": 22,
     "metadata": {},
     "output_type": "execute_result"
    }
   ],
   "source": [
    "# Model training\n",
    "# Example: Random Forest Regressor\n",
    "rf_likes = RandomForestRegressor()\n",
    "rf_time = RandomForestRegressor()\n",
    "\n",
    "rf_likes.fit(X_train, y_likes_train)\n",
    "rf_time.fit(X_train, y_time_train)\n"
   ]
  },
  {
   "cell_type": "code",
   "execution_count": 23,
   "id": "112401f0-6b12-44d3-8cbb-7b45f6a5fa5c",
   "metadata": {},
   "outputs": [],
   "source": [
    "# Model evaluation\n",
    "likes_predictions = rf_likes.predict(X_test)\n",
    "mae_likes = mean_absolute_error(y_likes_test, likes_predictions)\n",
    "\n",
    "time_predictions = rf_time.predict(X_test)\n",
    "mae_time = mean_absolute_error(y_time_test, time_predictions)\n"
   ]
  },
  {
   "cell_type": "code",
   "execution_count": 24,
   "id": "3c0f5fae-a72d-4dc3-9225-23f7ab330281",
   "metadata": {},
   "outputs": [
    {
     "name": "stdout",
     "output_type": "stream",
     "text": [
      "MAE for predicting Likes: 25.98157894736842\n"
     ]
    }
   ],
   "source": [
    "print(f'MAE for predicting Likes: {mae_likes}')"
   ]
  },
  {
   "cell_type": "code",
   "execution_count": 25,
   "id": "3905e8f7-ed80-4050-a82e-c2d4cafd132d",
   "metadata": {},
   "outputs": [
    {
     "name": "stdout",
     "output_type": "stream",
     "text": [
      "MAE for predicting Time since posted: 0.24879122662512648\n"
     ]
    }
   ],
   "source": [
    "print(f'MAE for predicting Time since posted: {mae_time}')"
   ]
  },
  {
   "cell_type": "code",
   "execution_count": null,
   "id": "e8b629bd-1b0e-4543-a72d-b70ae202be90",
   "metadata": {},
   "outputs": [],
   "source": []
  }
 ],
 "metadata": {
  "kernelspec": {
   "display_name": "Python 3 (ipykernel)",
   "language": "python",
   "name": "python3"
  },
  "language_info": {
   "codemirror_mode": {
    "name": "ipython",
    "version": 3
   },
   "file_extension": ".py",
   "mimetype": "text/x-python",
   "name": "python",
   "nbconvert_exporter": "python",
   "pygments_lexer": "ipython3",
   "version": "3.11.5"
  }
 },
 "nbformat": 4,
 "nbformat_minor": 5
}
