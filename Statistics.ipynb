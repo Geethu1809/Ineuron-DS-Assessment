{
 "cells": [
  {
   "cell_type": "markdown",
   "id": "7084f388-fda9-4861-8c07-07ae687d09d2",
   "metadata": {},
   "source": [
    "Statistics:\n",
    "\n"
   ]
  },
  {
   "cell_type": "code",
   "execution_count": null,
   "id": "2a40e64d-47bd-44c4-9d21-77e8c61d26f9",
   "metadata": {},
   "outputs": [],
   "source": []
  },
  {
   "cell_type": "markdown",
   "id": "e23c9bf5-e9b0-4de4-b5b9-ea850960877c",
   "metadata": {},
   "source": [
    " \n",
    "\n",
    "Question: 1\n",
    "\n",
    " What is the meaning of six sigma in statistics?  Give proper example\n"
   ]
  },
  {
   "cell_type": "markdown",
   "id": "b769a722-bd70-4141-8956-f9803db86425",
   "metadata": {},
   "source": [
    "In statistics, Six Sigma is a methodology used by organizations to improve the quality of their processes by reducing defects or errors to a very low level. The term \"Six Sigma\" refers to a level of quality control that allows only 3.4 defects per million opportunities. This means that processes operating at Six Sigma levels are extremely efficient and have minimal variation.\n",
    "\n",
    "Let's say we work at a manufacturing company that produces light bulbs. Each light bulb needs to meet certain specifications to be considered acceptable. However, due to various factors like variations in materials or machinery, defects occasionally occur. These defects might include bulbs with broken filaments or incorrect wattage.\n",
    "\n",
    "To implement Six Sigma, our company would first identify the critical aspects of the manufacturing process that contribute to defects. Then, using statistical tools and techniques, we would analyze data to understand how these factors affect the quality of the light bulbs.\n",
    "\n",
    "For example, we might identify that variations in the temperature during the production process significantly impact the likelihood of defects. By controlling the temperature more precisely or making adjustments to the machinery, we can reduce the occurrence of defects.\n",
    "\n",
    "Through continuous monitoring and improvement efforts, our goal would be to achieve Six Sigma quality levels, meaning that only 3.4 defective bulbs would be produced for every million bulbs manufactured. This would result in a highly reliable and efficient manufacturing process, leading to higher customer satisfaction and lower costs for the company."
   ]
  },
  {
   "cell_type": "code",
   "execution_count": null,
   "id": "b054b356-9b37-4d01-ae47-72e0dd5fe25d",
   "metadata": {},
   "outputs": [],
   "source": []
  },
  {
   "cell_type": "markdown",
   "id": "b4713cda-f401-466c-89fe-c7ad195cfcf2",
   "metadata": {},
   "source": [
    "\n",
    "\n",
    "Question: 2\n",
    "\n",
    "What type of data does not have a log-normal distribution or a Gaussian distribution?  Give proper example\n",
    "\n"
   ]
  },
  {
   "cell_type": "markdown",
   "id": "a9296ffe-ea79-445b-b858-be3d6cc450e7",
   "metadata": {},
   "source": [
    "Data that do not have a log-normal distribution or a Gaussian distribution are often referred to as non-normal data. These data distributions are characterized by not following the typical bell-shaped curve of a Gaussian distribution or the skewed shape of a log-normal distribution.\n",
    "\n",
    "One example of non-normal data is count data, which consists of whole numbers representing the frequency of events or occurrences within a specific time frame or area. Count data often follows a Poisson distribution, which is characterized by a right-skewed shape and does not resemble a Gaussian distribution.\n",
    "\n",
    "For instance, consider the number of customer complaints received by a company each day. The count of complaints may vary widely from day to day, with some days having very few complaints and others having a larger number. This type of data would not follow a Gaussian distribution or a log-normal distribution, as the distribution would be heavily skewed to the right, with most days having few complaints and only a few days having a high number of complaints.\n",
    "\n",
    "Another example of non-normal data is categorical data, which consists of labels or categories that do not have a numerical order. Categorical data cannot be measured on a continuous scale and therefore cannot follow a Gaussian or log-normal distribution.\n",
    "\n",
    "For example, consider a survey where respondents are asked to choose their favorite color from a list of options. The data collected from this survey would be categorical, with each respondent falling into one of the color categories. Since there is no numerical order to the color choices, the data would not follow a Gaussian or log-normal distribution. Instead, it would be analyzed using methods appropriate for categorical data, such as chi-square tests or frequency analysis."
   ]
  },
  {
   "cell_type": "code",
   "execution_count": null,
   "id": "b85de902-6691-4411-b3db-0a4184e482d1",
   "metadata": {},
   "outputs": [],
   "source": []
  },
  {
   "cell_type": "markdown",
   "id": "150903c4-872d-4d01-b9e8-3a8a5844dc9c",
   "metadata": {},
   "source": [
    "\n",
    "Question: 3\n",
    "\n",
    "What is the meaning of the five-number summary in Statistics? Give proper example\n",
    "\n"
   ]
  },
  {
   "cell_type": "markdown",
   "id": "33f16a69-5570-4478-beac-622547e6e3e4",
   "metadata": {},
   "source": [
    "In statistics, the five-number summary is a concise way to summarize the distribution of a dataset. It consists of five key values that provide important insights into the central tendency, spread, and shape of the data.\n",
    "\n",
    "The five numbers in the summary are:\n",
    "\n",
    "1. Minimum: The smallest value in the dataset.\n",
    "2. First quartile (Q1): The value below which 25% of the data falls. Also known as the lower quartile.\n",
    "3. Median (Q2): The middle value of the dataset when it is arranged in ascending order. It represents the point that divides the data into two equal halves.\n",
    "4. Third quartile (Q3): The value below which 75% of the data falls. Also known as the upper quartile.\n",
    "5. Maximum: The largest value in the dataset.\n",
    "\n",
    "These five numbers are often used to create a box plot or box-and-whisker plot, which visually displays the distribution of the data and any outliers.\n",
    "\n",
    "For example, let's consider the following dataset representing the scores of 20 students in a mathematics exam:\n",
    "\n",
    "```plaintext\n",
    "67, 72, 75, 78, 80, 82, 85, 86, 88, 90, 91, 92, 93, 95, 97, 98, 99, 100, 100, 100\n",
    "```\n",
    "\n",
    "To calculate the five-number summary:\n",
    "\n",
    "1. Minimum: 67\n",
    "2. Q1 (First quartile): 78 (value below which 25% of the data falls)\n",
    "3. Median (Q2): 89 (middle value of the dataset)\n",
    "4. Q3 (Third quartile): 96 (value below which 75% of the data falls)\n",
    "5. Maximum: 100\n",
    "\n",
    "With this five-number summary, we can understand the range of scores, the spread of scores within each quartile, and identify any potential outliers."
   ]
  },
  {
   "cell_type": "code",
   "execution_count": null,
   "id": "81631528-a0f5-4f46-8e86-79961de0aaaf",
   "metadata": {},
   "outputs": [],
   "source": []
  },
  {
   "cell_type": "markdown",
   "id": "3d95e402-9dad-46c7-bcfe-ebefebb52363",
   "metadata": {},
   "source": [
    "\n",
    "Question: 4\n",
    "\n",
    "What is correlation? Give an example with a dataset & graphical representation on jupyter Notebook"
   ]
  },
  {
   "cell_type": "markdown",
   "id": "e9188706-54fa-4858-ab00-12275a8f828e",
   "metadata": {},
   "source": [
    "Correlation is a statistical measure that describes the relationship between two variables. It indicates whether and how strongly the variables are related to each other. The correlation coefficient quantifies the strength and direction of the relationship, ranging from -1 to 1.\n",
    "\n",
    "- A correlation coefficient close to 1 indicates a strong positive correlation, meaning that as one variable increases, the other variable also tends to increase.\n",
    "- A correlation coefficient close to -1 indicates a strong negative correlation, meaning that as one variable increases, the other variable tends to decrease.\n",
    "- A correlation coefficient close to 0 indicates little to no linear relationship between the variables.\n",
    "\n",
    "Let's consider an example dataset of student scores in math and science exams. We want to investigate the relationship between these two variables to see if there's any correlation.\n",
    "\n",
    "```plaintext\n",
    "Student  Math_Score  Science_Score\n",
    "   1         80           85\n",
    "   2         75           82\n",
    "   3         90           88\n",
    "   4         85           86\n",
    "   5         78           80\n",
    "   6         92           90\n",
    "   7         88           85\n",
    "   8         95           92\n",
    "   9         70           75\n",
    "  10         98           95\n",
    "```\n",
    "\n",
    "To calculate the correlation coefficient between math scores and science scores, we can use statistical software like Python with libraries such as Pandas and Matplotlib to analyze and visualize the data.\n"
   ]
  },
  {
   "cell_type": "code",
   "execution_count": 2,
   "id": "84689cfd-cb30-4a45-86a2-b2e723bf869a",
   "metadata": {},
   "outputs": [
    {
     "name": "stdout",
     "output_type": "stream",
     "text": [
      "Correlation coefficient: 0.9596555061222253\n"
     ]
    },
    {
     "data": {
      "image/png": "[encoded data removed]",
      "text/plain": [
       "<Figure size 640x480 with 1 Axes>"
      ]
     },
     "metadata": {},
     "output_type": "display_data"
    }
   ],
   "source": [
    "import pandas as pd\n",
    "import matplotlib.pyplot as plt\n",
    "\n",
    "# Create a DataFrame with the example data\n",
    "data = {\n",
    "    'Math_Score': [80, 75, 90, 85, 78, 92, 88, 95, 70, 98],\n",
    "    'Science_Score': [85, 82, 88, 86, 80, 90, 85, 92, 75, 95]\n",
    "}\n",
    "\n",
    "df = pd.DataFrame(data)\n",
    "\n",
    "# Calculate the correlation coefficient\n",
    "correlation_coefficient = df['Math_Score'].corr(df['Science_Score'])\n",
    "\n",
    "print(\"Correlation coefficient:\", correlation_coefficient)\n",
    "\n",
    "# Scatter plot to visualize the relationship\n",
    "plt.scatter(df['Math_Score'], df['Science_Score'])\n",
    "plt.xlabel('Math Score')\n",
    "plt.ylabel('Science Score')\n",
    "plt.title('Math vs Science Scores')\n",
    "plt.show()"
   ]
  },
  {
   "cell_type": "markdown",
   "id": "175cb8a9-1bd2-48a6-843a-ed73680c55f4",
   "metadata": {},
   "source": [
    "\n",
    "This code will calculate the correlation coefficient between math scores and science scores and then create a scatter plot to visually represent the relationship between the two variables. The scatter plot will show how the points are distributed, and the correlation coefficient will provide a numerical measure of the strength and direction of the relationship."
   ]
  },
  {
   "cell_type": "code",
   "execution_count": null,
   "id": "a3915376-156a-4a4f-ab0c-1d2d6dd05d3d",
   "metadata": {},
   "outputs": [],
   "source": []
  },
  {
   "cell_type": "code",
   "execution_count": null,
   "id": "8d727aed-3a81-4b36-9ef1-9db6f79bfd60",
   "metadata": {},
   "outputs": [],
   "source": []
  }
 ],
 "metadata": {
  "kernelspec": {
   "display_name": "Python 3 (ipykernel)",
   "language": "python",
   "name": "python3"
  },
  "language_info": {
   "codemirror_mode": {
    "name": "ipython",
    "version": 3
   },
   "file_extension": ".py",
   "mimetype": "text/x-python",
   "name": "python",
   "nbconvert_exporter": "python",
   "pygments_lexer": "ipython3",
   "version": "3.11.5"
  }
 },
 "nbformat": 4,
 "nbformat_minor": 5
}
